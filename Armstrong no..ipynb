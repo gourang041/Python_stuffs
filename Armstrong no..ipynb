{
 "cells": [
  {
   "cell_type": "code",
   "execution_count": 2,
   "id": "9a063624",
   "metadata": {},
   "outputs": [],
   "source": [
    "#number of n digits which are equal to sum of nth power of its digits."
   ]
  },
  {
   "cell_type": "code",
   "execution_count": 8,
   "id": "d55a22c6",
   "metadata": {},
   "outputs": [
    {
     "name": "stdout",
     "output_type": "stream",
     "text": [
      "0\n",
      "1\n",
      "2\n",
      "3\n",
      "4\n",
      "5\n",
      "6\n",
      "7\n",
      "8\n",
      "9\n",
      "153\n",
      "370\n",
      "371\n",
      "407\n"
     ]
    }
   ],
   "source": [
    "for i in range (1001):\n",
    "    num=i\n",
    "    result=0\n",
    "    n=len(str(i))\n",
    "    \n",
    "    while (i!=0):\n",
    "        digit=i%10\n",
    "        result=result+digit**n\n",
    "        i=i//10\n",
    "        \n",
    "    if num==result:\n",
    "        print(num)\n",
    "    \n",
    "        "
   ]
  },
  {
   "cell_type": "code",
   "execution_count": 15,
   "id": "3d2502ce",
   "metadata": {},
   "outputs": [
    {
     "name": "stdout",
     "output_type": "stream",
     "text": [
      "407\n",
      "the n.is not armstrong\n"
     ]
    }
   ],
   "source": [
    "num=int(input())\n",
    "n=len(str(num))\n",
    "result=0\n",
    "\n",
    "while (num!=0):\n",
    "    digit=num%10\n",
    "    result=result+digit**n\n",
    "    num=num//10\n",
    "    \n",
    "if result==num:\n",
    "    print(num)\n",
    "    \n",
    "else:\n",
    "    print('the n.is not armstrong')"
   ]
  },
  {
   "cell_type": "code",
   "execution_count": null,
   "id": "95327194",
   "metadata": {},
   "outputs": [],
   "source": []
  }
 ],
 "metadata": {
  "kernelspec": {
   "display_name": "Python 3",
   "language": "python",
   "name": "python3"
  },
  "language_info": {
   "codemirror_mode": {
    "name": "ipython",
    "version": 3
   },
   "file_extension": ".py",
   "mimetype": "text/x-python",
   "name": "python",
   "nbconvert_exporter": "python",
   "pygments_lexer": "ipython3",
   "version": "3.7.1"
  }
 },
 "nbformat": 4,
 "nbformat_minor": 5
}
