{
 "cells": [
  {
   "cell_type": "markdown",
   "id": "e5a587d9",
   "metadata": {},
   "source": [
    "Interactions between functions"
   ]
  },
  {
   "cell_type": "markdown",
   "id": "81dad330",
   "metadata": {},
   "source": [
    "Functions often use results from other functions, let's see a simple example through a guessing game. There will be 3 positions in the list, one of which is an 'O', a function will shuffle the list, another will take a player's guess, and finally another will check to see if it is correct. This is based on the classic carnival game of guessing which cup a red ball is under./"
   ]
  },
  {
   "cell_type": "code",
   "execution_count": 1,
   "id": "c44784da",
   "metadata": {},
   "outputs": [],
   "source": [
    " from random import shuffle"
   ]
  },
  {
   "cell_type": "code",
   "execution_count": 2,
   "id": "e63c5aa7",
   "metadata": {},
   "outputs": [],
   "source": [
    "mylist = ['','O','']"
   ]
  },
  {
   "cell_type": "code",
   "execution_count": 3,
   "id": "7dc7eb5b",
   "metadata": {},
   "outputs": [],
   "source": [
    "def shuffle_list(mylist):\n",
    "    # Take in list, and returned shuffle versioned\n",
    "    shuffle(mylist)\n",
    "    \n",
    "    return mylist"
   ]
  },
  {
   "cell_type": "code",
   "execution_count": 4,
   "id": "5d892ae7",
   "metadata": {},
   "outputs": [
    {
     "data": {
      "text/plain": [
       "['', 'O', '']"
      ]
     },
     "execution_count": 4,
     "metadata": {},
     "output_type": "execute_result"
    }
   ],
   "source": [
    "shuffle_list(mylist)"
   ]
  },
  {
   "cell_type": "markdown",
   "id": "d3ac8947",
   "metadata": {},
   "source": [
    "Now taking player's guess."
   ]
  },
  {
   "cell_type": "code",
   "execution_count": 5,
   "id": "bc5b23d1",
   "metadata": {},
   "outputs": [],
   "source": [
    "def player_guess():\n",
    "    \n",
    "    guess = ''\n",
    "    \n",
    "    while guess not in ['0','1','2']:\n",
    "        \n",
    "        guess = input(\"Pick a number: 0, 1, or 2:  \")\n",
    "        \n",
    "    return int(guess)"
   ]
  },
  {
   "cell_type": "markdown",
   "id": "4705c77b",
   "metadata": {},
   "source": [
    "Now we will check the user's guess."
   ]
  },
  {
   "cell_type": "code",
   "execution_count": 6,
   "id": "8f3d1a36",
   "metadata": {},
   "outputs": [],
   "source": [
    "def check_user_guess(mylist,guess):\n",
    "    \n",
    "    if mylist[guess] == 'O':\n",
    "        print('Correct guess!')\n",
    "        \n",
    "    else:\n",
    "        print('Wrong Oh!Better luck next time')\n",
    "        print(mylist)"
   ]
  },
  {
   "cell_type": "markdown",
   "id": "ff0c90ad",
   "metadata": {},
   "source": [
    "Now we create a little setup logic to run all the functions,by interacting them."
   ]
  },
  {
   "cell_type": "code",
   "execution_count": 7,
   "id": "c0e2e0ea",
   "metadata": {},
   "outputs": [
    {
     "name": "stdout",
     "output_type": "stream",
     "text": [
      "Pick a number: 0, 1, or 2:  2\n",
      "Correct guess!\n"
     ]
    }
   ],
   "source": [
    "# Initial List\n",
    "mylist = ['','O','']\n",
    "\n",
    "# Shuffle It\n",
    "mixed_up_list = shuffle_list(mylist)\n",
    "\n",
    "# Get User's Guess\n",
    "guess = player_guess()\n",
    "\n",
    "# Check User's Guess\n",
    "# This function takes in the input \n",
    "# based on the output of other functions!\n",
    "\n",
    "check_user_guess(mixed_up_list,guess)"
   ]
  },
  {
   "cell_type": "code",
   "execution_count": null,
   "id": "58508ffa",
   "metadata": {},
   "outputs": [],
   "source": []
  }
 ],
 "metadata": {
  "kernelspec": {
   "display_name": "Python 3",
   "language": "python",
   "name": "python3"
  },
  "language_info": {
   "codemirror_mode": {
    "name": "ipython",
    "version": 3
   },
   "file_extension": ".py",
   "mimetype": "text/x-python",
   "name": "python",
   "nbconvert_exporter": "python",
   "pygments_lexer": "ipython3",
   "version": "3.7.1"
  }
 },
 "nbformat": 4,
 "nbformat_minor": 5
}
