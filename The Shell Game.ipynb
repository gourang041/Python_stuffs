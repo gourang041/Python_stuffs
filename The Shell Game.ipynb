{
 "cells": [
  {
   "cell_type": "code",
   "execution_count": 1,
   "id": "c44784da",
   "metadata": {},
   "outputs": [
    {
     "name": "stdout",
     "output_type": "stream",
     "text": [
      "Pick a number: 0, 1, or 2:  2\n",
      "Wrong Oh!Better luck next time\n",
      "['O', '', '']\n"
     ]
    }
   ],
   "source": [
    "from random import shuffle\n",
    "\n",
    "mylist = ['','O','']\n",
    "\n",
    "def shuffle_list(mylist):\n",
    "    \n",
    "    shuffle(mylist)\n",
    "    \n",
    "    return mylist\n",
    "\n",
    "def player_guess():\n",
    "    \n",
    "    guess = ''\n",
    "    \n",
    "    while guess not in ['0','1','2']:\n",
    "        \n",
    "        guess = input(\"Pick a number: 0, 1, or 2:  \")\n",
    "        \n",
    "    return int(guess)\n",
    "\n",
    "def check_user_guess(mylist,guess):\n",
    "    \n",
    "    if mylist[guess] == 'O':\n",
    "        print('Correct guess!')\n",
    "        \n",
    "    else:\n",
    "        print('Wrong Oh!Better luck next time')\n",
    "        print(mylist)\n",
    "        \n",
    "        \n",
    "\n",
    "mylist = ['','O','']\n",
    "\n",
    "\n",
    "mixed_up_list = shuffle_list(mylist)\n",
    "\n",
    "\n",
    "guess = player_guess()\n",
    "\n",
    "check_user_guess(mixed_up_list,guess)        \n"
   ]
  }
 ],
 "metadata": {
  "kernelspec": {
   "display_name": "Python 3",
   "language": "python",
   "name": "python3"
  },
  "language_info": {
   "codemirror_mode": {
    "name": "ipython",
    "version": 3
   },
   "file_extension": ".py",
   "mimetype": "text/x-python",
   "name": "python",
   "nbconvert_exporter": "python",
   "pygments_lexer": "ipython3",
   "version": "3.7.1"
  }
 },
 "nbformat": 4,
 "nbformat_minor": 5
}
