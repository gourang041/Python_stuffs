{
 "cells": [
  {
   "cell_type": "code",
   "execution_count": 3,
   "id": "377d425e",
   "metadata": {},
   "outputs": [],
   "source": [
    "def myfunc(a,b):\n",
    "    return sum((a,b)) * 0.05"
   ]
  },
  {
   "cell_type": "code",
   "execution_count": 4,
   "id": "54db3f20",
   "metadata": {},
   "outputs": [
    {
     "data": {
      "text/plain": [
       "6.050000000000001"
      ]
     },
     "execution_count": 4,
     "metadata": {},
     "output_type": "execute_result"
    }
   ],
   "source": [
    "myfunc(55,66)"
   ]
  },
  {
   "cell_type": "code",
   "execution_count": 13,
   "id": "de06b942",
   "metadata": {},
   "outputs": [],
   "source": [
    "def myfunc(*args):\n",
    "    return sum(args) * 0.05"
   ]
  },
  {
   "cell_type": "code",
   "execution_count": 14,
   "id": "c9ca78a6",
   "metadata": {},
   "outputs": [
    {
     "data": {
      "text/plain": [
       "3.25"
      ]
     },
     "execution_count": 14,
     "metadata": {},
     "output_type": "execute_result"
    }
   ],
   "source": [
    "myfunc(45,20)"
   ]
  },
  {
   "cell_type": "code",
   "execution_count": 15,
   "id": "9ce57f6b",
   "metadata": {},
   "outputs": [],
   "source": [
    "def myfunc(**kwargs):\n",
    "    print(kwargs)"
   ]
  },
  {
   "cell_type": "code",
   "execution_count": 6,
   "id": "ae03e1e2",
   "metadata": {},
   "outputs": [
    {
     "name": "stdout",
     "output_type": "stream",
     "text": [
      "{'fruit': 'apple', 'veggie': 'lettuce'}\n"
     ]
    }
   ],
   "source": [
    "myfunc(fruit = 'apple',veggie = 'lettuce')"
   ]
  },
  {
   "cell_type": "code",
   "execution_count": 19,
   "id": "ae381b05",
   "metadata": {},
   "outputs": [],
   "source": [
    "def myfunc(*args,**kwargs):\n",
    "    print(args)\n",
    "    print(kwargs)\n",
    "    print('I would like to have {} {} {}'.format(args[0],'kg',kwargs['food']))"
   ]
  },
  {
   "cell_type": "code",
   "execution_count": 21,
   "id": "272ebb7c",
   "metadata": {},
   "outputs": [
    {
     "name": "stdout",
     "output_type": "stream",
     "text": [
      "(10, 20, 30)\n",
      "{'fruit': 'orange', 'food': 'paneer', 'animal': 'dog'}\n",
      "I would like to have 10 kg paneer\n"
     ]
    }
   ],
   "source": [
    "myfunc(10,20,30,fruit = 'orange',food = 'paneer',animal = 'dog')"
   ]
  },
  {
   "cell_type": "code",
   "execution_count": 47,
   "id": "ef3201f5",
   "metadata": {},
   "outputs": [
    {
     "data": {
      "text/plain": [
       "0"
      ]
     },
     "execution_count": 47,
     "metadata": {},
     "output_type": "execute_result"
    }
   ],
   "source": [
    "myfunc(5,6,2,4,9,0)"
   ]
  },
  {
   "cell_type": "code",
   "execution_count": 37,
   "id": "da5efb1f",
   "metadata": {},
   "outputs": [],
   "source": [
    "def myfunc(*args):\n",
    "    out = []\n",
    "    for num in args:\n",
    "        if num%2==0:\n",
    "            out.append(num)\n",
    "    return out\n",
    "    "
   ]
  },
  {
   "cell_type": "code",
   "execution_count": 52,
   "id": "9d3cb905",
   "metadata": {},
   "outputs": [],
   "source": [
    "def myfunc(word):\n",
    "    out = []\n",
    "    for i in range(len(word)):\n",
    "        if i%2==0:\n",
    "            out.append(word[i].lower())\n",
    "        else:\n",
    "            out.append(word[i].upper())\n",
    "    return ''.join(out)"
   ]
  },
  {
   "cell_type": "code",
   "execution_count": 55,
   "id": "456f0583",
   "metadata": {},
   "outputs": [
    {
     "data": {
      "text/plain": [
       "'vIrAtKoHlI'"
      ]
     },
     "execution_count": 55,
     "metadata": {},
     "output_type": "execute_result"
    }
   ],
   "source": [
    "myfunc('Viratkohli')"
   ]
  },
  {
   "cell_type": "code",
   "execution_count": null,
   "id": "d78af211",
   "metadata": {},
   "outputs": [],
   "source": []
  }
 ],
 "metadata": {
  "kernelspec": {
   "display_name": "Python 3",
   "language": "python",
   "name": "python3"
  },
  "language_info": {
   "codemirror_mode": {
    "name": "ipython",
    "version": 3
   },
   "file_extension": ".py",
   "mimetype": "text/x-python",
   "name": "python",
   "nbconvert_exporter": "python",
   "pygments_lexer": "ipython3",
   "version": "3.7.1"
  }
 },
 "nbformat": 4,
 "nbformat_minor": 5
}
