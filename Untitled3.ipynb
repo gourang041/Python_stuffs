{
 "cells": [
  {
   "cell_type": "code",
   "execution_count": 12,
   "id": "a5ef2b1c",
   "metadata": {},
   "outputs": [],
   "source": [
    "class Rectangle:\n",
    "    def __init__(self,length,width):\n",
    "        self.length = length\n",
    "        self.width = width\n",
    "    def area(self):\n",
    "        return self.length*self.width\n",
    "\n",
    "class Circle:\n",
    "    def __init__(self,radius):\n",
    "        self.radius=radius\n",
    "    def area(self):\n",
    "        return math.pi*(self.radius**2)"
   ]
  },
  {
   "cell_type": "code",
   "execution_count": 14,
   "id": "bc23d9b7",
   "metadata": {},
   "outputs": [
    {
     "ename": "SyntaxError",
     "evalue": "invalid syntax (<ipython-input-14-5a6f816d0ee6>, line 1)",
     "output_type": "error",
     "traceback": [
      "\u001b[1;36m  File \u001b[1;32m\"<ipython-input-14-5a6f816d0ee6>\"\u001b[1;36m, line \u001b[1;32m1\u001b[0m\n\u001b[1;33m    rectangle 1\u001b[0m\n\u001b[1;37m              ^\u001b[0m\n\u001b[1;31mSyntaxError\u001b[0m\u001b[1;31m:\u001b[0m invalid syntax\n"
     ]
    }
   ],
   "source": [
    "rectangle 1"
   ]
  },
  {
   "cell_type": "code",
   "execution_count": 15,
   "id": "e0977018",
   "metadata": {},
   "outputs": [
    {
     "ename": "SyntaxError",
     "evalue": "invalid syntax (<ipython-input-15-50e505c3ac43>, line 9)",
     "output_type": "error",
     "traceback": [
      "\u001b[1;36m  File \u001b[1;32m\"<ipython-input-15-50e505c3ac43>\"\u001b[1;36m, line \u001b[1;32m9\u001b[0m\n\u001b[1;33m    return Item:{} Item name:{} Price:{} Quantity:{}.format(self.itemID,self.iname,self.price,self.quantity)\u001b[0m\n\u001b[1;37m               ^\u001b[0m\n\u001b[1;31mSyntaxError\u001b[0m\u001b[1;31m:\u001b[0m invalid syntax\n"
     ]
    }
   ],
   "source": [
    "class VendingMachine:\n",
    "    def __init__(self,itemID,price,iname,quantity):\n",
    "        super().__init__()\n",
    "        self.itemID = itemID\n",
    "        self.price = price\n",
    "        self.iname = iname\n",
    "        self.quantity = quantity\n",
    "    def description(self):\n",
    "            print(\"Item:{} Item name:{} Price:{} Quantity:{}.format(self.itemID,self.iname,self.price,self.quantity)"
   ]
  },
  {
   "cell_type": "code",
   "execution_count": null,
   "id": "97cd2f20",
   "metadata": {},
   "outputs": [],
   "source": []
  }
 ],
 "metadata": {
  "kernelspec": {
   "display_name": "Python 3",
   "language": "python",
   "name": "python3"
  },
  "language_info": {
   "codemirror_mode": {
    "name": "ipython",
    "version": 3
   },
   "file_extension": ".py",
   "mimetype": "text/x-python",
   "name": "python",
   "nbconvert_exporter": "python",
   "pygments_lexer": "ipython3",
   "version": "3.7.1"
  }
 },
 "nbformat": 4,
 "nbformat_minor": 5
}
