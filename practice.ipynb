{
 "cells": [
  {
   "cell_type": "code",
   "execution_count": null,
   "id": "e6c74ca7",
   "metadata": {},
   "outputs": [],
   "source": [
    "def is_leap(year):\n",
    "    if year%4==0:\n",
    "        print('True')\n",
    "    else:\n",
    "        print('False')    \n",
    "            \n",
    "year = int(input())\n",
    "result =is_leap(year)\n",
    "print(result)"
   ]
  },
  {
   "cell_type": "code",
   "execution_count": null,
   "id": "e9a43a43",
   "metadata": {},
   "outputs": [],
   "source": [
    "year = int(input())\n",
    "\n",
    "if year%4==0:\n",
    "        print('True')\n",
    "else:\n",
    "        print('False') \n",
    "        \n",
    "        "
   ]
  },
  {
   "cell_type": "code",
   "execution_count": null,
   "id": "98e0e5c3",
   "metadata": {},
   "outputs": [],
   "source": [
    "def is_leap(year):\n",
    "    # Write your logic here\n",
    "    if year%4==0:\n",
    "        return True\n",
    "    else:\n",
    "        return False \n",
    "\n",
    "year = int(input())\n",
    "print(is_leap(year))"
   ]
  },
  {
   "cell_type": "code",
   "execution_count": 1,
   "id": "2fb34c55",
   "metadata": {},
   "outputs": [
    {
     "name": "stdout",
     "output_type": "stream",
     "text": [
      "False False True\n"
     ]
    }
   ],
   "source": [
    "def is_leap(year):\n",
    "    \n",
    "    # Write your logic here\n",
    "    if year%400==0:\n",
    "        return True\n",
    "    elif year%4==0 and year%100!=0:\n",
    "        return True\n",
    "    else:\n",
    "        return False\n",
    "    \n",
    "\n",
    "print(is_leap(55),is_leap(2002),is_leap(1992))\n",
    "      "
   ]
  },
  {
   "cell_type": "code",
   "execution_count": 2,
   "id": "926b9757",
   "metadata": {},
   "outputs": [
    {
     "name": "stdout",
     "output_type": "stream",
     "text": [
      "Hello, World.\n",
      "Gourang\n"
     ]
    }
   ],
   "source": [
    "print('Hello, World.')\n",
    "input_string = input()\n"
   ]
  },
  {
   "cell_type": "code",
   "execution_count": 4,
   "id": "6bb5ffff",
   "metadata": {},
   "outputs": [
    {
     "name": "stdout",
     "output_type": "stream",
     "text": [
      "Hello,World.\n",
      "Welcome to 30 Days of Code!\n"
     ]
    }
   ],
   "source": [
    "print(\"Hello,World.\")\n",
    "input_string = input()"
   ]
  },
  {
   "cell_type": "code",
   "execution_count": 7,
   "id": "04316442",
   "metadata": {},
   "outputs": [
    {
     "data": {
      "text/plain": [
       "float"
      ]
     },
     "execution_count": 7,
     "metadata": {},
     "output_type": "execute_result"
    }
   ],
   "source": [
    "a=5.5\n",
    "type(a)"
   ]
  },
  {
   "cell_type": "code",
   "execution_count": 8,
   "id": "c1f465e4",
   "metadata": {},
   "outputs": [
    {
     "name": "stdout",
     "output_type": "stream",
     "text": [
      "HackerRank Badge for Gourang\n"
     ]
    }
   ],
   "source": [
    "s = 'HackerRank '\n",
    "c = 'Badge for Gourang'\n",
    "print(s+c)"
   ]
  },
  {
   "cell_type": "code",
   "execution_count": 3,
   "id": "a0c855c3",
   "metadata": {},
   "outputs": [],
   "source": [
    "def reverseArray(a):\n",
    "    return a[::-1]\n",
    "\n",
    "\n"
   ]
  },
  {
   "cell_type": "code",
   "execution_count": 4,
   "id": "5f55a8b9",
   "metadata": {},
   "outputs": [
    {
     "data": {
      "text/plain": [
       "[4, 1]"
      ]
     },
     "execution_count": 4,
     "metadata": {},
     "output_type": "execute_result"
    }
   ],
   "source": [
    "reverseArray([1,4])"
   ]
  },
  {
   "cell_type": "code",
   "execution_count": 5,
   "id": "5a6dc09c",
   "metadata": {},
   "outputs": [
    {
     "data": {
      "text/plain": [
       "['vege', 'fruits']"
      ]
     },
     "execution_count": 5,
     "metadata": {},
     "output_type": "execute_result"
    }
   ],
   "source": [
    "reverseArray(['fruits','vege'])"
   ]
  },
  {
   "cell_type": "code",
   "execution_count": null,
   "id": "96a3e8d2",
   "metadata": {},
   "outputs": [],
   "source": []
  }
 ],
 "metadata": {
  "kernelspec": {
   "display_name": "Python 3",
   "language": "python",
   "name": "python3"
  },
  "language_info": {
   "codemirror_mode": {
    "name": "ipython",
    "version": 3
   },
   "file_extension": ".py",
   "mimetype": "text/x-python",
   "name": "python",
   "nbconvert_exporter": "python",
   "pygments_lexer": "ipython3",
   "version": "3.7.1"
  }
 },
 "nbformat": 4,
 "nbformat_minor": 5
}
