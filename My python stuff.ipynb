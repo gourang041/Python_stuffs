{
 "cells": [
  {
   "cell_type": "code",
   "execution_count": 1,
   "id": "1d7e45c6",
   "metadata": {},
   "outputs": [
    {
     "name": "stdout",
     "output_type": "stream",
     "text": [
      "Enter first no.55\n",
      "Enter second no.66\n",
      "The answer is = 121\n"
     ]
    }
   ],
   "source": [
    "#addition\n",
    "num1=input(\"Enter first no.\")\n",
    "num2=input(\"Enter second no.\")\n",
    "print(\"The answer is =\",int(num1)+int(num2))"
   ]
  },
  {
   "cell_type": "code",
   "execution_count": null,
   "id": "42d0a4a9",
   "metadata": {},
   "outputs": [
    {
     "name": "stdout",
     "output_type": "stream",
     "text": [
      "Welcome to Dictionary\n"
     ]
    }
   ],
   "source": [
    "# my first dictionary program....\n",
    "\n",
    "print(\"Welcome to Dictionary\")\n",
    "Dictionary ={\"Callow\":\"Young And Inexperienced\",\"Endear\":\"Make Attractive\",\"Dally\":\"Waste Time\",\"Forbid\":\"Not Allow\"}\n",
    "Search=input(\"Enter word for knowing meaning :\")\n",
    "print(Dictionary[Search])\n",
    "print(\"Thanks for using Dictionary\")"
   ]
  },
  {
   "cell_type": "code",
   "execution_count": null,
   "id": "1d87bffb",
   "metadata": {},
   "outputs": [],
   "source": []
  },
  {
   "cell_type": "code",
   "execution_count": null,
   "id": "ca7eb5b4",
   "metadata": {},
   "outputs": [],
   "source": []
  },
  {
   "cell_type": "code",
   "execution_count": null,
   "id": "8702e31b",
   "metadata": {},
   "outputs": [],
   "source": []
  },
  {
   "cell_type": "code",
   "execution_count": null,
   "id": "6e375502",
   "metadata": {},
   "outputs": [],
   "source": []
  }
 ],
 "metadata": {
  "kernelspec": {
   "display_name": "Python 3",
   "language": "python",
   "name": "python3"
  },
  "language_info": {
   "codemirror_mode": {
    "name": "ipython",
    "version": 3
   },
   "file_extension": ".py",
   "mimetype": "text/x-python",
   "name": "python",
   "nbconvert_exporter": "python",
   "pygments_lexer": "ipython3",
   "version": "3.7.1"
  }
 },
 "nbformat": 4,
 "nbformat_minor": 5
}
