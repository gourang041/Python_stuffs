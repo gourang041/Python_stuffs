{
 "cells": [
  {
   "cell_type": "code",
   "execution_count": null,
   "id": "767d2dec",
   "metadata": {},
   "outputs": [],
   "source": [
    "def name_of_function(arg1,arg2):\n",
    "    '''\n",
    "    This is where the function's Document String (docstring) goes.\n",
    "    When you call help() on your function it will be printed out.\n",
    "    '''\n",
    "    # Do stuff here\n",
    "    # Return desired result\n",
    "type(name_of_function)   "
   ]
  },
  {
   "cell_type": "markdown",
   "id": "7c46f743",
   "metadata": {},
   "source": [
    "Simple example of a function:"
   ]
  },
  {
   "cell_type": "code",
   "execution_count": null,
   "id": "63d8457b",
   "metadata": {},
   "outputs": [],
   "source": [
    "def say_hello():\n",
    "    print('hello')"
   ]
  },
  {
   "cell_type": "code",
   "execution_count": null,
   "id": "9169ec22",
   "metadata": {},
   "outputs": [],
   "source": [
    "say_hello()\n",
    "#If you forget the parenthesis (), it will simply display the fact that say_hello is a function. Later on we will learn we can actually pass in functions into other functions! But for now, simply remember to call functions with ()"
   ]
  },
  {
   "cell_type": "markdown",
   "id": "32e59d42",
   "metadata": {},
   "source": [
    "Accepting parameters (arguments)"
   ]
  },
  {
   "cell_type": "code",
   "execution_count": null,
   "id": "cf7f3805",
   "metadata": {},
   "outputs": [],
   "source": [
    "def greeting(name):\n",
    "    print(f'Hello {name}')"
   ]
  },
  {
   "cell_type": "code",
   "execution_count": null,
   "id": "86b4cedb",
   "metadata": {},
   "outputs": [],
   "source": [
    "greeting('Gourang')"
   ]
  },
  {
   "cell_type": "code",
   "execution_count": null,
   "id": "89959d66",
   "metadata": {},
   "outputs": [],
   "source": [
    "# getting results using return keyword....\n",
    "def add_num(num1,num2):\n",
    "    return num1+num2"
   ]
  },
  {
   "cell_type": "code",
   "execution_count": null,
   "id": "ef70f909",
   "metadata": {},
   "outputs": [],
   "source": [
    "add_num(5,6)"
   ]
  },
  {
   "cell_type": "code",
   "execution_count": null,
   "id": "d9090886",
   "metadata": {},
   "outputs": [],
   "source": [
    "# Can also save as variable due to return\n",
    "result = add_num(5,6)"
   ]
  },
  {
   "cell_type": "code",
   "execution_count": null,
   "id": "56fde3e4",
   "metadata": {},
   "outputs": [],
   "source": [
    "result"
   ]
  },
  {
   "cell_type": "markdown",
   "id": "e2f8f08d",
   "metadata": {},
   "source": [
    "Very Common Question: \"What is the difference between return and print?\"\n",
    "\n",
    "The return keyword allows you to actually save the result of the output of a function as a variable. The print() function simply displays the output to you, but doesn't save it for future use. Let's explore this in more detail"
   ]
  },
  {
   "cell_type": "code",
   "execution_count": null,
   "id": "c10d1998",
   "metadata": {},
   "outputs": [],
   "source": [
    "def print_result(a,b):\n",
    "    print(a+b)"
   ]
  },
  {
   "cell_type": "code",
   "execution_count": null,
   "id": "a85d4f87",
   "metadata": {},
   "outputs": [],
   "source": [
    "def return_result(a,b):\n",
    "    return a+b"
   ]
  },
  {
   "cell_type": "code",
   "execution_count": null,
   "id": "8e0a75fc",
   "metadata": {},
   "outputs": [],
   "source": [
    "print_result(5,6)"
   ]
  },
  {
   "cell_type": "code",
   "execution_count": null,
   "id": "754e5866",
   "metadata": {},
   "outputs": [],
   "source": [
    "# You won't see any output if you run this in a .py script\n",
    "return_result(5,6)"
   ]
  },
  {
   "cell_type": "markdown",
   "id": "01564a8b",
   "metadata": {},
   "source": [
    "But what happens if we actually want to save this result for later use?\n",
    "\n"
   ]
  },
  {
   "cell_type": "code",
   "execution_count": null,
   "id": "3ea0bd77",
   "metadata": {},
   "outputs": [],
   "source": [
    "my_result = return_result(5,6)"
   ]
  },
  {
   "cell_type": "code",
   "execution_count": null,
   "id": "83a67b54",
   "metadata": {},
   "outputs": [],
   "source": [
    "my_result"
   ]
  },
  {
   "cell_type": "code",
   "execution_count": null,
   "id": "75da0b44",
   "metadata": {},
   "outputs": [],
   "source": [
    "my_result + my_result"
   ]
  },
  {
   "cell_type": "markdown",
   "id": "b49eb96f",
   "metadata": {},
   "source": [
    "Be careful! Notice how print_result() doesn't let you actually save the result to a variable! It only prints it out, with print() returning None for the assignment!"
   ]
  },
  {
   "cell_type": "code",
   "execution_count": null,
   "id": "7da8b9ab",
   "metadata": {},
   "outputs": [],
   "source": [
    "my_result = print_result(5,6)"
   ]
  },
  {
   "cell_type": "code",
   "execution_count": null,
   "id": "0e03cd1f",
   "metadata": {},
   "outputs": [],
   "source": [
    "my_result"
   ]
  },
  {
   "cell_type": "code",
   "execution_count": null,
   "id": "bc56ef21",
   "metadata": {},
   "outputs": [],
   "source": [
    "type(my_result)"
   ]
  },
  {
   "cell_type": "markdown",
   "id": "1feef7b0",
   "metadata": {},
   "source": [
    "Check if any number in a list is even"
   ]
  },
  {
   "cell_type": "code",
   "execution_count": 2,
   "id": "c655ce0b",
   "metadata": {},
   "outputs": [],
   "source": [
    "def check_even_list(num_list):\n",
    "    \n",
    "    for number in num_list:\n",
    "        if number % 2 == 0:\n",
    "            return True\n",
    "        else:\n",
    "            pass"
   ]
  },
  {
   "cell_type": "code",
   "execution_count": 3,
   "id": "8a164465",
   "metadata": {},
   "outputs": [
    {
     "data": {
      "text/plain": [
       "True"
      ]
     },
     "execution_count": 3,
     "metadata": {},
     "output_type": "execute_result"
    }
   ],
   "source": [
    "check_even_list([5,6])"
   ]
  },
  {
   "cell_type": "code",
   "execution_count": 4,
   "id": "20967a2c",
   "metadata": {},
   "outputs": [],
   "source": [
    "check_even_list([1,5])"
   ]
  },
  {
   "cell_type": "markdown",
   "id": "8cdb7eb2",
   "metadata": {},
   "source": [
    "VERY COMMON MISTAKE!! LET'S SEE A COMMON LOGIC ERROR, NOTE THIS IS WRONG!!!\n",
    "\n"
   ]
  },
  {
   "cell_type": "code",
   "execution_count": null,
   "id": "a23ac9d8",
   "metadata": {},
   "outputs": [],
   "source": [
    "def check_even_list(num_list):\n",
    "    # Go through each number\n",
    "    for number in num_list:\n",
    "        # Once we get a \"hit\" on an even number, we return True\n",
    "        if number % 2 == 0:\n",
    "            return True\n",
    "        # This is WRONG! This returns False at the very first odd number!\n",
    "        # It doesn't end up checking the other numbers in the list!\n",
    "        else:\n",
    "            return False"
   ]
  },
  {
   "cell_type": "code",
   "execution_count": null,
   "id": "4d953cc5",
   "metadata": {},
   "outputs": [],
   "source": [
    "# UH OH! It is returning False after hitting the first 1\n",
    "check_even_list([1,2,3])"
   ]
  },
  {
   "cell_type": "markdown",
   "id": "1fdae714",
   "metadata": {},
   "source": [
    "Correct Approach: We need to initiate a return False AFTER running through the entire loop\n",
    "\n"
   ]
  },
  {
   "cell_type": "code",
   "execution_count": null,
   "id": "3f380de6",
   "metadata": {},
   "outputs": [],
   "source": [
    "def check_even_list(num_list):\n",
    "    # Go through each number\n",
    "    for number in num_list:\n",
    "        # Once we get a \"hit\" on an even number, we return True\n",
    "        if number % 2 == 0:\n",
    "            return True\n",
    "        # Don't do anything if its not even\n",
    "        else:\n",
    "            pass\n",
    "    # Notice the indentation! This ensures we run through the entire for loop    \n",
    "    return False"
   ]
  },
  {
   "cell_type": "code",
   "execution_count": null,
   "id": "af188312",
   "metadata": {},
   "outputs": [],
   "source": [
    "check_even_list([1,2,3])"
   ]
  },
  {
   "cell_type": "code",
   "execution_count": null,
   "id": "6c15402b",
   "metadata": {},
   "outputs": [],
   "source": [
    "check_even_list([5,3,7,9])"
   ]
  },
  {
   "cell_type": "markdown",
   "id": "7ee68c20",
   "metadata": {},
   "source": [
    "Return all even numbers in a list"
   ]
  },
  {
   "cell_type": "code",
   "execution_count": null,
   "id": "7330c38c",
   "metadata": {},
   "outputs": [],
   "source": [
    "def check_even_list(num_list):\n",
    "    \n",
    "    even_numbers = []\n",
    "    \n",
    "    # Go through each number\n",
    "    for number in num_list:\n",
    "        # Once we get a \"hit\" on an even number, we append the even number\n",
    "        if number % 2 == 0:\n",
    "            even_numbers.append(number)\n",
    "        # Don't do anything if its not even\n",
    "        else:\n",
    "            pass\n",
    "    # Notice the indentation! This ensures we run through the entire for loop    \n",
    "    return even_numbers"
   ]
  },
  {
   "cell_type": "code",
   "execution_count": null,
   "id": "3062b032",
   "metadata": {},
   "outputs": [],
   "source": [
    "check_even_list([5,3,6,4,2,8])"
   ]
  },
  {
   "cell_type": "code",
   "execution_count": null,
   "id": "c42803c2",
   "metadata": {},
   "outputs": [],
   "source": [
    "check_even_list([5,3,7])"
   ]
  },
  {
   "cell_type": "code",
   "execution_count": null,
   "id": "0646b749",
   "metadata": {},
   "outputs": [],
   "source": []
  }
 ],
 "metadata": {
  "kernelspec": {
   "display_name": "Python 3",
   "language": "python",
   "name": "python3"
  },
  "language_info": {
   "codemirror_mode": {
    "name": "ipython",
    "version": 3
   },
   "file_extension": ".py",
   "mimetype": "text/x-python",
   "name": "python",
   "nbconvert_exporter": "python",
   "pygments_lexer": "ipython3",
   "version": "3.7.1"
  }
 },
 "nbformat": 4,
 "nbformat_minor": 5
}
