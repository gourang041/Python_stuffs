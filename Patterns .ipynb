{
 "cells": [
  {
   "cell_type": "code",
   "execution_count": 27,
   "id": "f6942d34",
   "metadata": {},
   "outputs": [],
   "source": [
    "#Right angle star ..."
   ]
  },
  {
   "cell_type": "code",
   "execution_count": 34,
   "id": "6d326cd7",
   "metadata": {},
   "outputs": [
    {
     "name": "stdout",
     "output_type": "stream",
     "text": [
      "Enter the value of row:6\n",
      " *\n",
      " * *\n",
      " * * *\n",
      " * * * *\n",
      " * * * * *\n",
      " * * * * * *\n"
     ]
    }
   ],
   "source": [
    "n=int(input(\"Enter the value of row:\"))\n",
    "for i in range(1,n+1):\n",
    "    for j in range(1,i+1) :\n",
    "        print(\" \",end='*')\n",
    "    print()    "
   ]
  },
  {
   "cell_type": "code",
   "execution_count": 31,
   "id": "c136890a",
   "metadata": {},
   "outputs": [
    {
     "ename": "SyntaxError",
     "evalue": "invalid syntax (<ipython-input-31-007295995ef8>, line 6)",
     "output_type": "error",
     "traceback": [
      "\u001b[1;36m  File \u001b[1;32m\"<ipython-input-31-007295995ef8>\"\u001b[1;36m, line \u001b[1;32m6\u001b[0m\n\u001b[1;33m    elif\u001b[0m\n\u001b[1;37m             ^\u001b[0m\n\u001b[1;31mSyntaxError\u001b[0m\u001b[1;31m:\u001b[0m invalid syntax\n"
     ]
    }
   ],
   "source": [
    "n=int(input(\"Enter the value of row:\"))\n",
    "for i in range(1,n+1):\n",
    "    for j in range(1,i+1) :\n",
    "        if row==n and col==n:\n",
    "            print('#',end='')\n",
    "        elif     \n",
    "        )\n",
    "    print()   "
   ]
  },
  {
   "cell_type": "code",
   "execution_count": 31,
   "id": "f8b5cf89",
   "metadata": {},
   "outputs": [],
   "source": [
    "#right angle star pattern via while loop......"
   ]
  },
  {
   "cell_type": "code",
   "execution_count": 3,
   "id": "9249bf0e",
   "metadata": {},
   "outputs": [
    {
     "name": "stdout",
     "output_type": "stream",
     "text": [
      "Enter the value of row:5\n",
      "*\n",
      "**\n",
      "***\n",
      "****\n",
      "*****\n"
     ]
    }
   ],
   "source": [
    "num=int(input(\"Enter the value of row:\"))\n",
    "row=0\n",
    "while row<num:\n",
    "    star=row+1\n",
    "    while star>0:\n",
    "        print('*',end='')\n",
    "        star=star-1\n",
    "    row=row+1\n",
    "    print()\n"
   ]
  },
  {
   "cell_type": "code",
   "execution_count": null,
   "id": "cf2d73b5",
   "metadata": {},
   "outputs": [],
   "source": [
    "#Hollow right angled triangle star.."
   ]
  },
  {
   "cell_type": "code",
   "execution_count": 7,
   "id": "9f9bd10e",
   "metadata": {},
   "outputs": [
    {
     "name": "stdout",
     "output_type": "stream",
     "text": [
      "Enter the value of row:5\n",
      "*    \n",
      "**   \n",
      "* *  \n",
      "*  * \n",
      "*****\n"
     ]
    }
   ],
   "source": [
    "n=int(input(\"Enter the value of row:\"))\n",
    "for row in range(n):\n",
    "    for col in range(n):\n",
    "        if col==0 or row==(n-1) or row==col:\n",
    "            print(\"*\",end=\"\")\n",
    "        else:\n",
    "            print(end=\" \")\n",
    "    print()        "
   ]
  },
  {
   "cell_type": "code",
   "execution_count": 27,
   "id": "a232b326",
   "metadata": {},
   "outputs": [
    {
     "name": "stdout",
     "output_type": "stream",
     "text": [
      "Enter the value of row:5\n",
      "*****\n",
      " *  *\n",
      "  * *\n",
      "   **\n",
      "    *\n"
     ]
    }
   ],
   "source": [
    "n=int(input(\"Enter the value of row:\"))\n",
    "for row in range(n):\n",
    "    for col in range(n):\n",
    "        if row==0 or col==(n-1) or row==col:\n",
    "            print(\"*\",end=\"\")\n",
    "        else:\n",
    "            print(end=\" \")\n",
    "    print()        "
   ]
  },
  {
   "cell_type": "code",
   "execution_count": 6,
   "id": "61e42958",
   "metadata": {},
   "outputs": [
    {
     "name": "stdout",
     "output_type": "stream",
     "text": [
      "Enter the value of row:5\n",
      "1\n",
      "22\n",
      "333\n",
      "4444\n",
      "55555\n"
     ]
    }
   ],
   "source": [
    "n=int(input(\"Enter the value of row:\"))\n",
    "for i in range(1,n+1):\n",
    "    for j in range(1,i+1) :\n",
    "        print(i,end=\"\")\n",
    "    print()    "
   ]
  },
  {
   "cell_type": "code",
   "execution_count": 11,
   "id": "0a49bf81",
   "metadata": {},
   "outputs": [
    {
     "name": "stdout",
     "output_type": "stream",
     "text": [
      "Enter the value of row:5\n",
      "1\n",
      "12\n",
      "123\n",
      "1234\n",
      "12345\n"
     ]
    }
   ],
   "source": [
    "n=int(input(\"Enter the value of row:\"))\n",
    "for i in range(1,n+1):\n",
    "    for j in range(1,i+1) :\n",
    "        print(j,end=\"\")\n",
    "    print()    "
   ]
  },
  {
   "cell_type": "code",
   "execution_count": 14,
   "id": "df400e42",
   "metadata": {},
   "outputs": [
    {
     "name": "stdout",
     "output_type": "stream",
     "text": [
      "Enter the value of row:5\n",
      "55555\n",
      "4444\n",
      "333\n",
      "22\n",
      "1\n"
     ]
    }
   ],
   "source": [
    "n=int(input(\"Enter the value of row:\"))\n",
    "for row in range(n,0,-1):\n",
    "    for col in range(1,row+1):\n",
    "            print(row,end=\"\")\n",
    "        \n",
    "    print()        "
   ]
  },
  {
   "cell_type": "code",
   "execution_count": 15,
   "id": "e3521141",
   "metadata": {},
   "outputs": [
    {
     "name": "stdout",
     "output_type": "stream",
     "text": [
      "Enter the value of row:5\n",
      "12345\n",
      "1234\n",
      "123\n",
      "12\n",
      "1\n"
     ]
    }
   ],
   "source": [
    "n=int(input(\"Enter the value of row:\"))\n",
    "for row in range(n,0,-1):\n",
    "    for col in range(1,row+1):\n",
    "            print(col,end=\"\")\n",
    "        \n",
    "    print()        "
   ]
  },
  {
   "cell_type": "code",
   "execution_count": 16,
   "id": "954d5f15",
   "metadata": {},
   "outputs": [],
   "source": [
    "#Hacker_rank"
   ]
  },
  {
   "cell_type": "code",
   "execution_count": 13,
   "id": "2b97d368",
   "metadata": {},
   "outputs": [
    {
     "name": "stdout",
     "output_type": "stream",
     "text": [
      "enter no.5\n",
      "0\n",
      "1\n",
      "4\n",
      "9\n",
      "16\n"
     ]
    }
   ],
   "source": [
    "n = int(input(\"enter no.\"))\n",
    "for i in range (n):\n",
    "      print(i**2)"
   ]
  },
  {
   "cell_type": "code",
   "execution_count": 5,
   "id": "210ae2b4",
   "metadata": {},
   "outputs": [
    {
     "name": "stdout",
     "output_type": "stream",
     "text": [
      "5\n",
      "Not Weird\n",
      "Weird\n",
      "Not Weird\n",
      "\n"
     ]
    }
   ],
   "source": [
    " n = int(input())\n",
    "for n in range(2,5):\n",
    "    if n%2==0:\n",
    "        print(\"Not Weird\") \n",
    "    elif n%2!=0:\n",
    "        print('Weird')\n",
    "print()        "
   ]
  },
  {
   "cell_type": "code",
   "execution_count": 6,
   "id": "86c9be81",
   "metadata": {},
   "outputs": [
    {
     "name": "stdout",
     "output_type": "stream",
     "text": [
      "2\n",
      "Not Weird\n"
     ]
    }
   ],
   "source": [
    "n = int(input())\n",
    "if n in range (2,5) and n%2==0:\n",
    "        print('Not Weird')\n",
    "elif n in range (6,20) and n%2==0:\n",
    "     print('Weird')\n",
    "elif n>20 and n%2==0:\n",
    "    print('Not Weird')\n",
    "else:\n",
    "    n%2!=0\n",
    "    print('Weird')\n",
    "    \n",
    "\n",
    " "
   ]
  },
  {
   "cell_type": "code",
   "execution_count": null,
   "id": "fc5bb554",
   "metadata": {},
   "outputs": [],
   "source": []
  }
 ],
 "metadata": {
  "kernelspec": {
   "display_name": "Python 3",
   "language": "python",
   "name": "python3"
  },
  "language_info": {
   "codemirror_mode": {
    "name": "ipython",
    "version": 3
   },
   "file_extension": ".py",
   "mimetype": "text/x-python",
   "name": "python",
   "nbconvert_exporter": "python",
   "pygments_lexer": "ipython3",
   "version": "3.7.1"
  }
 },
 "nbformat": 4,
 "nbformat_minor": 5
}
