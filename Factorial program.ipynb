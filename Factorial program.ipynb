{
 "cells": [
  {
   "cell_type": "code",
   "execution_count": 20,
   "id": "1f7edecc",
   "metadata": {},
   "outputs": [],
   "source": [
    "#Factorial by built_in_func"
   ]
  },
  {
   "cell_type": "code",
   "execution_count": 19,
   "id": "7ca3b271",
   "metadata": {},
   "outputs": [
    {
     "name": "stdout",
     "output_type": "stream",
     "text": [
      "Enter the number:6\n",
      "Factorial of 6 is 720\n"
     ]
    }
   ],
   "source": [
    "import math\n",
    "num=int(input(\"Enter the number:\"))\n",
    "result=math.factorial(num)  \n",
    "print('Factorial of',num,'is',result)\n",
    "\n"
   ]
  },
  {
   "cell_type": "code",
   "execution_count": 1,
   "id": "67d645b4",
   "metadata": {},
   "outputs": [],
   "source": [
    " #Factorialby using loop.."
   ]
  },
  {
   "cell_type": "code",
   "execution_count": 1,
   "id": "0fbb3c31",
   "metadata": {},
   "outputs": [
    {
     "name": "stdout",
     "output_type": "stream",
     "text": [
      "Enter the number:25\n",
      "Factorial of 25 is 15511210043330985984000000\n"
     ]
    }
   ],
   "source": [
    "n=int(input(\"Enter the number:\"))\n",
    "result=1\n",
    "\n",
    "for i in range (n,0,-1):\n",
    "    result=result*i\n",
    "    \n",
    "print('Factorial of',n,'is',result)    "
   ]
  },
  {
   "cell_type": "code",
   "execution_count": 4,
   "id": "c6658a6b",
   "metadata": {},
   "outputs": [],
   "source": [
    " #Factorialby using recursion method..."
   ]
  },
  {
   "cell_type": "code",
   "execution_count": 1,
   "id": "f350978c",
   "metadata": {},
   "outputs": [
    {
     "name": "stdout",
     "output_type": "stream",
     "text": [
      "Enter the number:5\n",
      "Factorial of 5 is 120\n"
     ]
    }
   ],
   "source": [
    "def fact(n):\n",
    "    if n==0:\n",
    "        return 1\n",
    "    else:\n",
    "        return n*fact(n-1)\n",
    "    \n",
    "n=int(input(\"Enter the number:\"))\n",
    "result=fact(n)\n",
    "print('Factorial of',n,'is',result)   \n",
    "    "
   ]
  },
  {
   "cell_type": "code",
   "execution_count": null,
   "id": "48b08215",
   "metadata": {},
   "outputs": [],
   "source": []
  }
 ],
 "metadata": {
  "kernelspec": {
   "display_name": "Python 3",
   "language": "python",
   "name": "python3"
  },
  "language_info": {
   "codemirror_mode": {
    "name": "ipython",
    "version": 3
   },
   "file_extension": ".py",
   "mimetype": "text/x-python",
   "name": "python",
   "nbconvert_exporter": "python",
   "pygments_lexer": "ipython3",
   "version": "3.7.1"
  }
 },
 "nbformat": 4,
 "nbformat_minor": 5
}
