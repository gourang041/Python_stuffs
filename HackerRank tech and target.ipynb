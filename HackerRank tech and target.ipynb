{
 "cells": [
  {
   "cell_type": "markdown",
   "id": "0054ea60",
   "metadata": {},
   "source": [
    "Day one"
   ]
  },
  {
   "cell_type": "code",
   "execution_count": 2,
   "id": "515373bf",
   "metadata": {},
   "outputs": [
    {
     "name": "stdout",
     "output_type": "stream",
     "text": [
      "\n",
      "\n"
     ]
    },
    {
     "ename": "IndexError",
     "evalue": "list index out of range",
     "output_type": "error",
     "traceback": [
      "\u001b[1;31m---------------------------------------------------------------------------\u001b[0m",
      "\u001b[1;31mIndexError\u001b[0m                                Traceback (most recent call last)",
      "\u001b[1;32m<ipython-input-2-36d08e328dbb>\u001b[0m in \u001b[0;36m<module>\u001b[1;34m\u001b[0m\n\u001b[0;32m      6\u001b[0m \u001b[0mBob\u001b[0m\u001b[1;33m=\u001b[0m\u001b[1;36m0\u001b[0m\u001b[1;33m\u001b[0m\u001b[1;33m\u001b[0m\u001b[0m\n\u001b[0;32m      7\u001b[0m \u001b[1;32mfor\u001b[0m \u001b[0mi\u001b[0m \u001b[1;32min\u001b[0m \u001b[0mrange\u001b[0m\u001b[1;33m(\u001b[0m\u001b[0mn\u001b[0m\u001b[1;33m)\u001b[0m\u001b[1;33m:\u001b[0m\u001b[1;33m\u001b[0m\u001b[1;33m\u001b[0m\u001b[0m\n\u001b[1;32m----> 8\u001b[1;33m     \u001b[1;32mif\u001b[0m \u001b[0mlist1\u001b[0m\u001b[1;33m[\u001b[0m\u001b[0mi\u001b[0m\u001b[1;33m]\u001b[0m\u001b[1;33m>\u001b[0m\u001b[0mlist2\u001b[0m\u001b[1;33m[\u001b[0m\u001b[0mi\u001b[0m\u001b[1;33m]\u001b[0m\u001b[1;33m:\u001b[0m\u001b[1;33m\u001b[0m\u001b[1;33m\u001b[0m\u001b[0m\n\u001b[0m\u001b[0;32m      9\u001b[0m         \u001b[0mAlice\u001b[0m\u001b[1;33m=\u001b[0m\u001b[0mAlice\u001b[0m\u001b[1;33m+\u001b[0m\u001b[1;36m1\u001b[0m\u001b[1;33m\u001b[0m\u001b[1;33m\u001b[0m\u001b[0m\n\u001b[0;32m     10\u001b[0m \u001b[1;33m\u001b[0m\u001b[0m\n",
      "\u001b[1;31mIndexError\u001b[0m: list index out of range"
     ]
    }
   ],
   "source": [
    "list1=list(map(int,input().split()))\n",
    "list2=list(map(int,input().split()))\n",
    "n=3\n",
    "\n",
    "Alice=0\n",
    "Bob=0\n",
    "for i in range(n):\n",
    "    if list1[i]>list2[i]:\n",
    "        Alice=Alice+1\n",
    "        \n",
    "    elif list1[i]<list2[i]:\n",
    "        Bob=Bob+1\n",
    "\n",
    "        \n",
    "print(Alice,Bob)\n",
    "\n",
    "\n"
   ]
  },
  {
   "cell_type": "code",
   "execution_count": null,
   "id": "07720889",
   "metadata": {},
   "outputs": [],
   "source": [
    "arr = list(map(int,input().split()))\n",
    "\n",
    "def positiveNegativeZero(arr):\n",
    " \n",
    "    # Store the array length into the variable len.\n",
    "    length = len(arr);\n",
    " \n",
    "    # Initialize the postiveCount, negativeCount, and\n",
    "    # zeroCountby 0 which will count the total number\n",
    "    # of positive, negative and zero elements\n",
    "    positiveCount = 0\n",
    "    negativeCount = 0\n",
    "    zeroCount = 0\n",
    " \n",
    "    # Traverse the array and count the total number of\n",
    "    # positive, negative, and zero elements.\n",
    "    for i in range(length):\n",
    "        if (arr[i] > 0):\n",
    "            positiveCount += 1\n",
    "        elif(arr[i] < 0):\n",
    "            negativeCount += 1\n",
    "        elif(arr[i] == 0):\n",
    "            zeroCount += 1\n",
    "          \n",
    "    # Print the ratio of positive,\n",
    "    # negative, and zero elements\n",
    "    # in the array up to six decimal places.\n",
    "    print(round(positiveCount / length,6),end=' ')\n",
    "    print(round(negativeCount / length,6),end=' ')\n",
    "    print(round(zeroCount / length,6))\n",
    "    \n",
    "    \n",
    "\n",
    "positiveNegativeZero(arr)\n",
    "\n",
    " \n",
    "    \n"
   ]
  },
  {
   "cell_type": "code",
   "execution_count": null,
   "id": "032e310c",
   "metadata": {},
   "outputs": [],
   "source": [
    "n=input()\n",
    "arr = list(map(int,input().split()))\n",
    "# Store the array length into the variable len.\n",
    "length = len(arr);\n",
    " \n",
    "    # Initialize the postiveCount, negativeCount, and\n",
    "    # zeroCountby 0 which will count the total number\n",
    "    # of positive, negative and zero elements\n",
    "positiveCount = 0\n",
    "negativeCount = 0\n",
    "zeroCount = 0\n",
    " \n",
    "    # Traverse the array and count the total number of\n",
    "    # positive, negative, and zero elements.\n",
    "for i in range(length):\n",
    "    if (arr[i] > 0):\n",
    "            positiveCount += 1\n",
    "    elif(arr[i] < 0):\n",
    "            negativeCount += 1\n",
    "    elif(arr[i] == 0):\n",
    "            zeroCount += 1\n",
    "\n",
    "     \n",
    "          \n",
    "    # Print the ratio of positive,\n",
    "    # negative, and zero elements\n",
    "    # in the array up to six decimal places.\n",
    "print(round(positiveCount / length,6))\n",
    "print(round(negativeCount / length,6))\n",
    "print(round(zeroCount / length,6))"
   ]
  },
  {
   "cell_type": "code",
   "execution_count": null,
   "id": "0e36cbda",
   "metadata": {},
   "outputs": [],
   "source": [
    "def solveMeFirst(a,b):\n",
    "\t# Hint: Type return a+b below\n",
    "    return a+b\n",
    "\n",
    "\n",
    "a = int(input())\n",
    "b = int(input())\n",
    "res = solveMeFirst(a,b)\n",
    "print(res)"
   ]
  },
  {
   "cell_type": "code",
   "execution_count": null,
   "id": "5a902da1",
   "metadata": {},
   "outputs": [],
   "source": [
    "def staircase(n):\n",
    "    for i in range(1,n+1):\n",
    "        for j in range (1,n-i+1):\n",
    "            print(' ',end='')\n",
    "        for k in range (1,i+1):\n",
    "            print('#',end='')\n",
    "        print()   \n",
    "        \n",
    "staircase(n)"
   ]
  },
  {
   "cell_type": "code",
   "execution_count": null,
   "id": "945a1543",
   "metadata": {},
   "outputs": [],
   "source": [
    "n=int(input())\n",
    "def staircase(n):\n",
    "    \n",
    "    for i in range(1,n+1):\n",
    "        for j in range (1,n-i+1):\n",
    "            print(' ',end='')\n",
    "        for k in range (1,i+1):\n",
    "            print('#',end='')\n",
    "        print()   \n",
    "staircase(n)\n",
    "        \n",
    "\n"
   ]
  },
  {
   "cell_type": "code",
   "execution_count": null,
   "id": "ed3d0545",
   "metadata": {},
   "outputs": [],
   "source": [
    "staircase(n)"
   ]
  },
  {
   "cell_type": "markdown",
   "id": "62866639",
   "metadata": {},
   "source": [
    "Day Two"
   ]
  },
  {
   "cell_type": "code",
   "execution_count": null,
   "id": "44b2e28e",
   "metadata": {},
   "outputs": [],
   "source": [
    "arr = list(map(int, input().strip().split()))\n",
    "def miniMaxSum(arr):\n",
    "    listmin=[]\n",
    "    listmax=[]\n",
    "    for i in arr:\n",
    "        if i<max(arr):\n",
    "            listmin.append(i)\n",
    "            \n",
    "    for i in arr:\n",
    "        if i>min(arr):\n",
    "            listmax.append(i)\n",
    "            \n",
    "    print(sum(listmin),sum(listmax))   \n",
    "    \n",
    "miniMaxSum(arr)    "
   ]
  },
  {
   "cell_type": "code",
   "execution_count": 21,
   "id": "65191320",
   "metadata": {},
   "outputs": [
    {
     "name": "stdout",
     "output_type": "stream",
     "text": [
      "Enter the no. of candles:4\n",
      "5 5 4 3\n",
      "2\n"
     ]
    }
   ],
   "source": [
    "candles_count=int(input('Enter the no. of candles:'))\n",
    "candles=list(map(int,input().strip().split()))\n",
    "def birthdayCakeCandles(candles):\n",
    "    tallest=0\n",
    "    for i in candles:\n",
    "        if i==max(candles):\n",
    "            tallest += 1\n",
    "    print(tallest)\n",
    "    \n",
    "    \n",
    "birthdayCakeCandles(candles)            "
   ]
  },
  {
   "cell_type": "markdown",
   "id": "9c3f67f3",
   "metadata": {},
   "source": [
    "Day Three\n"
   ]
  },
  {
   "cell_type": "code",
   "execution_count": null,
   "id": "a19a2b36",
   "metadata": {},
   "outputs": [],
   "source": [
    "s=input()\n",
    "s=s.upper()\n",
    "length=len(s)\n",
    "count=0\n",
    "for i in range(0,length-2):\n",
    "    if s[i]=='S' and s[i+1]=='O' and s[i+2]=='S':\n",
    "        count+=1\n",
    "        \n",
    "print(int((length/3)-count))        "
   ]
  },
  {
   "cell_type": "code",
   "execution_count": null,
   "id": "a71de0bf",
   "metadata": {},
   "outputs": [],
   "source": [
    "s='gourang'\n",
    "s[:-1]"
   ]
  },
  {
   "cell_type": "code",
   "execution_count": null,
   "id": "68291870",
   "metadata": {},
   "outputs": [],
   "source": [
    "for _ in range(int(input())):\n",
    "    s = input().strip()\n",
    "    n = len(s)\n",
    "    x = ''\n",
    "    for i in s[:-1]:\n",
    "        x += i\n",
    "        y = int(x)\n",
    "        z = ''\n",
    "        while len(z) < n:\n",
    "            z += str(y)\n",
    "            y += 1\n",
    "        if n == len(z) and z == s:\n",
    "            print(\"YES\", x)\n",
    "            break\n",
    "    else:\n",
    "        print(\"NO\")\n",
    "                    "
   ]
  },
  {
   "cell_type": "code",
   "execution_count": null,
   "id": "78949e4b",
   "metadata": {},
   "outputs": [],
   "source": [
    "s=input()\n",
    "x=0\n",
    "for i in range(0,s+1):\n",
    "    if s[i]==s.lower() or s[i]==s.upper():\n",
    "        \n",
    "        x+=1"
   ]
  },
  {
   "cell_type": "code",
   "execution_count": 1,
   "id": "628cf59d",
   "metadata": {},
   "outputs": [
    {
     "data": {
      "text/plain": [
       "True"
      ]
     },
     "execution_count": 1,
     "metadata": {},
     "output_type": "execute_result"
    }
   ],
   "source": [
    "s='gouraNg'\n",
    "s[5].isupper()"
   ]
  },
  {
   "cell_type": "code",
   "execution_count": 19,
   "id": "9cb1c4e3",
   "metadata": {},
   "outputs": [
    {
     "name": "stdout",
     "output_type": "stream",
     "text": [
      "gPgPGppA\n",
      "4\n"
     ]
    }
   ],
   "source": [
    "# Python code to find the count of words\n",
    "# in a CamelCase sequence\n",
    " \n",
    "# Function to find the count of words\n",
    "# in a CamelCase sequence\n",
    "def countWords(s):\n",
    "    count = 1\n",
    "    for i in range(1, len(s)-1):\n",
    "        if (s[i].isupper()):\n",
    "            count += 1\n",
    " \n",
    "    return count\n",
    " \n",
    "# Driver code\n",
    "s = input()\n",
    "print(countWords(s))  "
   ]
  },
  {
   "cell_type": "markdown",
   "id": "93c624c0",
   "metadata": {},
   "source": [
    "Day Four\n"
   ]
  },
  {
   "cell_type": "code",
   "execution_count": 3,
   "id": "ce2c689c",
   "metadata": {},
   "outputs": [
    {
     "name": "stdout",
     "output_type": "stream",
     "text": [
      "5\n",
      "1 2 2 2 3 3\n",
      "2\n"
     ]
    }
   ],
   "source": [
    "#MIGRATORY BIRDS\n",
    "s=int(input())\n",
    "arr=list(map(int,input().strip().split()))\n",
    "count= [0]*100000\n",
    "for i in arr:\n",
    "         count[i] += 1\n",
    "    \n",
    "print(count.index(max(count)))    \n",
    "    "
   ]
  },
  {
   "cell_type": "code",
   "execution_count": 34,
   "id": "25d48e0d",
   "metadata": {},
   "outputs": [
    {
     "name": "stdout",
     "output_type": "stream",
     "text": [
      "2\n",
      "1 2 3\n",
      "Cat B\n",
      "2 6 4\n",
      "Mouse C\n"
     ]
    }
   ],
   "source": [
    "#CAT_AND_MOUSE\n",
    "q = int(input())\n",
    "\n",
    "for i in range(q):\n",
    "    \n",
    "    xyz = input().split()\n",
    "\n",
    "    x = int(xyz[0])\n",
    "\n",
    "    y = int(xyz[1])\n",
    "\n",
    "    z = int(xyz[2])\n",
    "    \n",
    "    \n",
    "    if abs(x-z) == abs(y-z):\n",
    "        print('Mouse C')\n",
    "    elif abs(x-z)<abs(y-z):\n",
    "        print ('Cat A')\n",
    "    else:\n",
    "        print ('Cat B')    \n"
   ]
  },
  {
   "cell_type": "code",
   "execution_count": 26,
   "id": "6594eb26",
   "metadata": {},
   "outputs": [
    {
     "name": "stdout",
     "output_type": "stream",
     "text": [
      "5 6 5 6 5 \n"
     ]
    }
   ],
   "source": [
    "xyz = input().split()"
   ]
  },
  {
   "cell_type": "code",
   "execution_count": 44,
   "id": "2ffeed56",
   "metadata": {},
   "outputs": [
    {
     "name": "stdout",
     "output_type": "stream",
     "text": [
      "23GF\n",
      "10980\n"
     ]
    }
   ],
   "source": [
    "num =input()\n",
    "print(int(num,17))"
   ]
  },
  {
   "cell_type": "code",
   "execution_count": 35,
   "id": "e51a21f7",
   "metadata": {},
   "outputs": [
    {
     "name": "stdout",
     "output_type": "stream",
     "text": [
      "5 6 4 5 9 0\n",
      "6 4 0 "
     ]
    }
   ],
   "source": [
    "arr=list(map(int,input().split()))\n",
    "for i in arr:\n",
    "    if i%2==0:\n",
    "        print(i,end=' ')\n",
    "\n",
    "    \n",
    "    \n",
    "    "
   ]
  },
  {
   "cell_type": "code",
   "execution_count": null,
   "id": "f1e20467",
   "metadata": {},
   "outputs": [],
   "source": []
  }
 ],
 "metadata": {
  "kernelspec": {
   "display_name": "Python 3",
   "language": "python",
   "name": "python3"
  },
  "language_info": {
   "codemirror_mode": {
    "name": "ipython",
    "version": 3
   },
   "file_extension": ".py",
   "mimetype": "text/x-python",
   "name": "python",
   "nbconvert_exporter": "python",
   "pygments_lexer": "ipython3",
   "version": "3.7.1"
  }
 },
 "nbformat": 4,
 "nbformat_minor": 5
}
