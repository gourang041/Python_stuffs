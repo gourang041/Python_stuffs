{
 "cells": [
  {
   "cell_type": "code",
   "execution_count": 4,
   "id": "488c32e7-1b6e-461c-a587-b976bf564f2d",
   "metadata": {},
   "outputs": [
    {
     "name": "stdin",
     "output_type": "stream",
     "text": [
      " SOSSPSSQSSOR\n"
     ]
    },
    {
     "name": "stdout",
     "output_type": "stream",
     "text": [
      "3\n"
     ]
    }
   ],
   "source": [
    "s=input()\n",
    "s=s.upper()\n",
    "length=len(s)\n",
    "count=0\n",
    "for i in range(0,length-2):\n",
    "    if s[i]=='S' and s[i+1]=='O' and s[i+2]=='S':\n",
    "        count+=1\n",
    "        \n",
    "print(int((length/3)-count))        "
   ]
  },
  {
   "cell_type": "code",
   "execution_count": 16,
   "id": "b2086915",
   "metadata": {},
   "outputs": [
    {
     "name": "stdout",
     "output_type": "stream",
     "text": [
      "5\n",
      "5 6 7 8 9 0\n",
      "0 9 8 7 6 5 "
     ]
    }
   ],
   "source": [
    "num=int(input())\n",
    "arr=list(map(int,input().split()))\n",
    "arr.reverse()\n",
    "\n",
    "for i in range(len(arr)):\n",
    "    print(arr[i],end=' ')\n"
   ]
  },
  {
   "cell_type": "code",
   "execution_count": 19,
   "id": "5c95beb0",
   "metadata": {},
   "outputs": [
    {
     "ename": "TypeError",
     "evalue": "'int' object is not subscriptable",
     "output_type": "error",
     "traceback": [
      "\u001b[1;31m---------------------------------------------------------------------------\u001b[0m",
      "\u001b[1;31mTypeError\u001b[0m                                 Traceback (most recent call last)",
      "\u001b[1;32m<ipython-input-19-85280e9b668a>\u001b[0m in \u001b[0;36m<module>\u001b[1;34m\u001b[0m\n\u001b[0;32m      1\u001b[0m \u001b[0marr\u001b[0m\u001b[1;33m=\u001b[0m\u001b[1;33m[\u001b[0m\u001b[1;33m[\u001b[0m\u001b[1;36m5\u001b[0m\u001b[1;33m,\u001b[0m\u001b[1;36m6\u001b[0m\u001b[1;33m]\u001b[0m\u001b[1;33m,\u001b[0m\u001b[1;36m2\u001b[0m\u001b[1;33m,\u001b[0m\u001b[1;36m4\u001b[0m\u001b[1;33m,\u001b[0m\u001b[1;36m8\u001b[0m\u001b[1;33m]\u001b[0m\u001b[1;33m\u001b[0m\u001b[1;33m\u001b[0m\u001b[0m\n\u001b[1;32m----> 2\u001b[1;33m \u001b[0marr\u001b[0m\u001b[1;33m[\u001b[0m\u001b[1;36m1\u001b[0m\u001b[1;33m]\u001b[0m\u001b[1;33m[\u001b[0m\u001b[1;36m1\u001b[0m\u001b[1;33m]\u001b[0m\u001b[1;33m\u001b[0m\u001b[1;33m\u001b[0m\u001b[0m\n\u001b[0m",
      "\u001b[1;31mTypeError\u001b[0m: 'int' object is not subscriptable"
     ]
    }
   ],
   "source": [
    "arr=[[5,6],2,4,8]\n",
    "arr[2][1]"
   ]
  },
  {
   "cell_type": "code",
   "execution_count": null,
   "id": "ac50b0bf",
   "metadata": {},
   "outputs": [],
   "source": []
  }
 ],
 "metadata": {
  "kernelspec": {
   "display_name": "Python 3",
   "language": "python",
   "name": "python3"
  },
  "language_info": {
   "codemirror_mode": {
    "name": "ipython",
    "version": 3
   },
   "file_extension": ".py",
   "mimetype": "text/x-python",
   "name": "python",
   "nbconvert_exporter": "python",
   "pygments_lexer": "ipython3",
   "version": "3.7.1"
  }
 },
 "nbformat": 4,
 "nbformat_minor": 5
}
